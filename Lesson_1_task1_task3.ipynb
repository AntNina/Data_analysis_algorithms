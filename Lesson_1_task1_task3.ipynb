{
 "cells": [
  {
   "cell_type": "code",
   "execution_count": 77,
   "id": "76e9eb75",
   "metadata": {},
   "outputs": [],
   "source": [
    "import numpy as np"
   ]
  },
  {
   "cell_type": "code",
   "execution_count": 78,
   "id": "0e9081eb",
   "metadata": {},
   "outputs": [],
   "source": [
    "X = np.array([[ 1,  1],\n",
    "              [ 1,  1],\n",
    "              [ 1,  2],\n",
    "              [ 1,  5],\n",
    "              [ 1,  3],\n",
    "              [ 1,  0],\n",
    "              [ 1,  5],\n",
    "              [ 1, 10],\n",
    "              [ 1,  1],\n",
    "              [ 1,  2]])"
   ]
  },
  {
   "cell_type": "code",
   "execution_count": 79,
   "id": "63ad7fdc",
   "metadata": {},
   "outputs": [],
   "source": [
    "y = [45, 55, 50, 55, 60, 35, 75, 80, 50, 60]"
   ]
  },
  {
   "cell_type": "code",
   "execution_count": 80,
   "id": "99923b3a",
   "metadata": {},
   "outputs": [],
   "source": [
    "y_pred1 = 5 * X[:, 1] + 35 * X[:, 0] \n",
    "y_pred2 = 7.5 * X[:, 1] + 40 * X[:, 0]"
   ]
  },
  {
   "cell_type": "code",
   "execution_count": 81,
   "id": "12d05b4c",
   "metadata": {},
   "outputs": [],
   "source": [
    "def calc_mse(y, y_pred):\n",
    "    err = np.mean((y - y_pred)**2)\n",
    "    return err"
   ]
  },
  {
   "cell_type": "code",
   "execution_count": 82,
   "id": "80c6f868",
   "metadata": {},
   "outputs": [],
   "source": [
    "def ten_iter_result(eta_src):\n",
    "    n = X.shape[0]\n",
    "    eta = eta_src\n",
    "    n_iter = 11\n",
    "    y_pred_local = 0\n",
    "    W = np.array([1, 0.5])\n",
    "    \n",
    "    for i in range(n_iter):\n",
    "        y_pred_local = np.dot(X, W)\n",
    "    \n",
    "        for k in range(W.shape[0]):\n",
    "            W[k] -= eta * (1/n * 2 * X[:, k] @ (y_pred_local - y))\n",
    "        if i % 10 == 0:\n",
    "            eta /= 1.1\n",
    "            \n",
    "    err = calc_mse(y, y_pred_local)\n",
    "    return round(err, 2)"
   ]
  },
  {
   "cell_type": "code",
   "execution_count": 83,
   "id": "4ff979be",
   "metadata": {},
   "outputs": [
    {
     "name": "stdout",
     "output_type": "stream",
     "text": [
      "0.062480529\n"
     ]
    }
   ],
   "source": [
    "def calc_max_eta(eta_base, digit):\n",
    "    eta_curr = round(eta_base, digit)\n",
    "    eta_prev = 0\n",
    "    W = np.array([1, 0.5])\n",
    "    diff_base = 0.1**digit\n",
    "   \n",
    "    mse_0 = round(calc_mse(y, np.dot(X, W)), 2)\n",
    "    \n",
    "    for z in range(11):\n",
    "        mse_10 = ten_iter_result(eta_curr)\n",
    "        \n",
    "        if mse_10 >= mse_0:\n",
    "            return round(eta_prev, digit)\n",
    "        else:\n",
    "            eta_prev = eta_curr\n",
    "            eta_curr = round(eta_curr + diff_base, digit)\n",
    "    return eta_base\n",
    "\n",
    "max_eta = 0.01\n",
    "precision_digit = 10\n",
    "for i in range(2, precision_digit):\n",
    "    max_eta = calc_max_eta(max_eta, i)\n",
    "            \n",
    "print(max_eta)"
   ]
  },
  {
   "cell_type": "code",
   "execution_count": 84,
   "id": "e4957413",
   "metadata": {},
   "outputs": [
    {
     "name": "stdout",
     "output_type": "stream",
     "text": [
      "Number of objects = 10        \n",
      "Learning rate = 0.062480529        \n",
      "Initial weights = [1.  0.5] \n",
      "\n",
      "Iteration #0: W_new = [ 7.74789713 24.05515943], MSE = 3047.75\n",
      "Iteration #10: W_new = [23.95680986 20.2037402 ], MSE = 3047.74\n",
      "Iteration #20: W_new = [30.94624762  7.93467001], MSE = 214.3\n",
      "Iteration #30: W_new = [35.77522893  5.51672419], MSE = 88.36\n",
      "Iteration #40: W_new = [38.81578743  4.94526366], MSE = 63.87\n",
      "Iteration #50: W_new = [40.70528515  4.60261373], MSE = 53.58\n",
      "Iteration #60: W_new = [41.92037513  4.3822759 ], MSE = 48.93\n",
      "Iteration #70: W_new = [42.72721862  4.23596727], MSE = 46.69\n",
      "Iteration #80: W_new = [43.27876195  4.13595339], MSE = 45.55\n",
      "Iteration #90: W_new = [43.66583815  4.06576309], MSE = 44.93\n",
      "Iteration #100: W_new = [43.944047    4.01531421], MSE = 44.58\n",
      "Iteration #110: W_new = [44.14837913  3.97826172], MSE = 44.38\n",
      "Iteration #120: W_new = [44.30142428  3.95050935], MSE = 44.25\n",
      "Iteration #130: W_new = [44.41811292  3.92934966], MSE = 44.17\n",
      "Iteration #140: W_new = [44.5085294   3.91295403], MSE = 44.12\n",
      "Iteration #150: W_new = [44.57962257  3.90006238], MSE = 44.08\n",
      "Iteration #160: W_new = [44.63627022  3.8897902 ], MSE = 44.06\n",
      "Iteration #170: W_new = [44.68195558  3.88150586], MSE = 44.04\n",
      "Iteration #180: W_new = [44.71920595  3.87475108], MSE = 44.03\n",
      "Iteration #190: W_new = [44.74988235  3.86918839], MSE = 44.02\n",
      "Iteration #200: W_new = [44.77537422  3.86456583], MSE = 44.01\n",
      "Iteration #210: W_new = [44.79673231  3.86069287], MSE = 44.0\n",
      "Iteration #220: W_new = [44.81476079  3.85742369], MSE = 44.0\n",
      "Iteration #230: W_new = [44.83008209  3.8546454 ], MSE = 43.99\n",
      "Iteration #240: W_new = [44.84318303  3.85226975], MSE = 43.99\n",
      "Iteration #250: W_new = [44.85444815  3.850227  ], MSE = 43.99\n",
      "Iteration #260: W_new = [44.86418397  3.84846155], MSE = 43.99\n",
      "Iteration #270: W_new = [44.872637    3.84692873], MSE = 43.99\n",
      "Iteration #280: W_new = [44.88000707  3.84559228], MSE = 43.98\n",
      "Iteration #290: W_new = [44.88645744  3.8444226 ], MSE = 43.98\n",
      "Iteration #300: W_new = [44.89212244  3.84339534], MSE = 43.98\n",
      "Eta: 0.062480529; n_iter: 300)\n"
     ]
    }
   ],
   "source": [
    "n = X.shape[0]\n",
    "\n",
    "result_precision_digit = 3 # base 2-digit precision + 1\n",
    "\n",
    "W = np.array([1, 0.5])\n",
    "print(f'Number of objects = {n} \\\n",
    "       \\nLearning rate = {eta} \\\n",
    "       \\nInitial weights = {W} \\n')\n",
    "\n",
    "def calc_n_iter(eta):    \n",
    "    max_iter_to_test = 2000\n",
    "    err_prev = 0\n",
    "\n",
    "    for i in range(max_iter_to_test):\n",
    "        y_pred = np.dot(X, W)\n",
    "\n",
    "        for k in range(W.shape[0]):\n",
    "            W[k] -= eta * (1/n * 2 * X[:, k] @ (y_pred - y))\n",
    "        if i % 10 == 0:\n",
    "            eta /= 1.1\n",
    "\n",
    "            err = calc_mse(y, y_pred)\n",
    "            print(f'Iteration #{i}: W_new = {W}, MSE = {round(err, 2)}')\n",
    "            if round(err, result_precision_digit) == err_prev:\n",
    "                return i;\n",
    "            err_prev = round(err, result_precision_digit)\n",
    "\n",
    "iter_result = calc_n_iter(max_eta)\n",
    "print(f'Eta: {eta}; n_iter: {iter_result})')"
   ]
  },
  {
   "cell_type": "code",
   "execution_count": null,
   "id": "fb9e22f3",
   "metadata": {},
   "outputs": [],
   "source": []
  }
 ],
 "metadata": {
  "kernelspec": {
   "display_name": "Python 3",
   "language": "python",
   "name": "python3"
  },
  "language_info": {
   "codemirror_mode": {
    "name": "ipython",
    "version": 3
   },
   "file_extension": ".py",
   "mimetype": "text/x-python",
   "name": "python",
   "nbconvert_exporter": "python",
   "pygments_lexer": "ipython3",
   "version": "3.8.8"
  }
 },
 "nbformat": 4,
 "nbformat_minor": 5
}
